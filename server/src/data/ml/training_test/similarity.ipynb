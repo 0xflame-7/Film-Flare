{
 "cells": [
  {
   "cell_type": "code",
   "execution_count": 70,
   "id": "5c4988ea",
   "metadata": {},
   "outputs": [],
   "source": [
    "file_path = \"../../datasets/Model_data.csv\""
   ]
  },
  {
   "cell_type": "code",
   "execution_count": 71,
   "id": "ae077f01",
   "metadata": {},
   "outputs": [],
   "source": [
    "import pandas as pd"
   ]
  },
  {
   "cell_type": "code",
   "execution_count": 72,
   "id": "590ce84f",
   "metadata": {},
   "outputs": [],
   "source": [
    "df = pd.read_csv(file_path)"
   ]
  },
  {
   "cell_type": "code",
   "execution_count": 73,
   "id": "67f74705",
   "metadata": {},
   "outputs": [
    {
     "data": {
      "application/vnd.microsoft.datawrangler.viewer.v0+json": {
       "columns": [
        {
         "name": "index",
         "rawType": "object",
         "type": "string"
        },
        {
         "name": "0",
         "rawType": "object",
         "type": "unknown"
        }
       ],
       "ref": "4605a8b3-13cd-4217-8c2a-7c24c4f38647",
       "rows": [
        [
         "movie_id",
         "1"
        ],
        [
         "title",
         "Toy Story"
        ],
        [
         "genres",
         "Comedy|Adventure|Animation|Children|Fantasy"
        ],
        [
         "directors",
         "John Lasseter"
        ],
        [
         "actors",
         "Tom Hanks|Tim Allen|Jim Varney|Don Rickles|Wallace Shawn"
        ],
        [
         "overview",
         "Led by Woody, Andy's toys live happily in his room until Andy's birthday brings Buzz Lightyear onto the scene. Afraid of losing his place in Andy's heart, Woody plots against Buzz. But when circumstances separate Buzz and Woody from their owner, the duo eventually learns to put aside their differences."
        ]
       ],
       "shape": {
        "columns": 1,
        "rows": 6
       }
      },
      "text/plain": [
       "movie_id                                                     1\n",
       "title                                                Toy Story\n",
       "genres             Comedy|Adventure|Animation|Children|Fantasy\n",
       "directors                                        John Lasseter\n",
       "actors       Tom Hanks|Tim Allen|Jim Varney|Don Rickles|Wal...\n",
       "overview     Led by Woody, Andy's toys live happily in his ...\n",
       "Name: 0, dtype: object"
      ]
     },
     "execution_count": 73,
     "metadata": {},
     "output_type": "execute_result"
    }
   ],
   "source": [
    "df.iloc[0]"
   ]
  },
  {
   "cell_type": "code",
   "execution_count": 74,
   "id": "f1956ade",
   "metadata": {},
   "outputs": [
    {
     "name": "stdout",
     "output_type": "stream",
     "text": [
      "<class 'pandas.core.frame.DataFrame'>\n",
      "RangeIndex: 9551 entries, 0 to 9550\n",
      "Data columns (total 6 columns):\n",
      " #   Column     Non-Null Count  Dtype \n",
      "---  ------     --------------  ----- \n",
      " 0   movie_id   9551 non-null   int64 \n",
      " 1   title      9551 non-null   object\n",
      " 2   genres     9551 non-null   object\n",
      " 3   directors  9551 non-null   object\n",
      " 4   actors     9551 non-null   object\n",
      " 5   overview   9551 non-null   object\n",
      "dtypes: int64(1), object(5)\n",
      "memory usage: 447.8+ KB\n"
     ]
    }
   ],
   "source": [
    "df.info()"
   ]
  },
  {
   "cell_type": "code",
   "execution_count": 75,
   "id": "0116b44a",
   "metadata": {},
   "outputs": [
    {
     "data": {
      "application/vnd.microsoft.datawrangler.viewer.v0+json": {
       "columns": [
        {
         "name": "index",
         "rawType": "object",
         "type": "string"
        },
        {
         "name": "0",
         "rawType": "int64",
         "type": "integer"
        }
       ],
       "ref": "a0a74c98-47be-46aa-9169-f1a87e25ce38",
       "rows": [
        [
         "movie_id",
         "0"
        ],
        [
         "title",
         "0"
        ],
        [
         "genres",
         "0"
        ],
        [
         "directors",
         "0"
        ],
        [
         "actors",
         "0"
        ],
        [
         "overview",
         "0"
        ]
       ],
       "shape": {
        "columns": 1,
        "rows": 6
       }
      },
      "text/plain": [
       "movie_id     0\n",
       "title        0\n",
       "genres       0\n",
       "directors    0\n",
       "actors       0\n",
       "overview     0\n",
       "dtype: int64"
      ]
     },
     "execution_count": 75,
     "metadata": {},
     "output_type": "execute_result"
    }
   ],
   "source": [
    "df.isnull().sum()"
   ]
  },
  {
   "cell_type": "code",
   "execution_count": 76,
   "id": "51a11663",
   "metadata": {},
   "outputs": [],
   "source": [
    "import nltk\n",
    "from nltk.stem.porter import PorterStemmer"
   ]
  },
  {
   "cell_type": "code",
   "execution_count": 77,
   "id": "604af700",
   "metadata": {},
   "outputs": [],
   "source": [
    "ps = PorterStemmer()"
   ]
  },
  {
   "cell_type": "code",
   "execution_count": 78,
   "id": "855ecc45",
   "metadata": {},
   "outputs": [],
   "source": [
    "def stem(text):\n",
    "  y = []\n",
    "  for i in text.split():\n",
    "    y.append(ps.stem(i))\n",
    "  return \" \".join(y)"
   ]
  },
  {
   "cell_type": "code",
   "execution_count": 79,
   "id": "3dc7bc6e",
   "metadata": {},
   "outputs": [],
   "source": [
    "df['genres'] = df['genres'].apply(lambda x: x.split('|'))\n",
    "df['actors'] = df['actors'].apply(lambda x: x.split('|'))\n",
    "df['directors'] = df['directors'].apply(lambda x: x.split('|'))"
   ]
  },
  {
   "cell_type": "code",
   "execution_count": 80,
   "id": "07dd400d",
   "metadata": {},
   "outputs": [],
   "source": [
    "df['genres'] = df['genres'].apply(lambda x: [i.replace(\" \", \"\") for i in x])\n",
    "df['actors'] = df['actors'].apply(lambda x: [i.replace(\" \", \"\") for i in x])\n",
    "df['directors'] = df['directors'].apply(lambda x: [i.replace(\" \", \"\") for i in x])\n",
    "# df['overview'] = df['overview'].apply(stem)\n",
    "df['overview'] = df['overview'].apply(lambda x: [x])"
   ]
  },
  {
   "cell_type": "code",
   "execution_count": 81,
   "id": "ff515576",
   "metadata": {},
   "outputs": [],
   "source": [
    "df['tags'] = df['genres'] + df['directors'] + df['actors'] + df['overview']"
   ]
  },
  {
   "cell_type": "code",
   "execution_count": 82,
   "id": "82d39d1e",
   "metadata": {},
   "outputs": [],
   "source": [
    "new_df = df[['movie_id', 'title','tags']].copy()"
   ]
  },
  {
   "cell_type": "code",
   "execution_count": 83,
   "id": "1af80648",
   "metadata": {},
   "outputs": [
    {
     "data": {
      "application/vnd.microsoft.datawrangler.viewer.v0+json": {
       "columns": [
        {
         "name": "index",
         "rawType": "object",
         "type": "string"
        },
        {
         "name": "0",
         "rawType": "object",
         "type": "unknown"
        }
       ],
       "ref": "c8f444f2-e7ea-4452-b575-3bd144952906",
       "rows": [
        [
         "movie_id",
         "1"
        ],
        [
         "title",
         "Toy Story"
        ],
        [
         "tags",
         "['Comedy', 'Adventure', 'Animation', 'Children', 'Fantasy', 'JohnLasseter', 'TomHanks', 'TimAllen', 'JimVarney', 'DonRickles', 'WallaceShawn', \"Led by Woody, Andy's toys live happily in his room until Andy's birthday brings Buzz Lightyear onto the scene. Afraid of losing his place in Andy's heart, Woody plots against Buzz. But when circumstances separate Buzz and Woody from their owner, the duo eventually learns to put aside their differences.\"]"
        ]
       ],
       "shape": {
        "columns": 1,
        "rows": 3
       }
      },
      "text/plain": [
       "movie_id                                                    1\n",
       "title                                               Toy Story\n",
       "tags        [Comedy, Adventure, Animation, Children, Fanta...\n",
       "Name: 0, dtype: object"
      ]
     },
     "execution_count": 83,
     "metadata": {},
     "output_type": "execute_result"
    }
   ],
   "source": [
    "new_df.iloc[0]"
   ]
  },
  {
   "cell_type": "code",
   "execution_count": 84,
   "id": "f5457780",
   "metadata": {},
   "outputs": [],
   "source": [
    "new_df['tags'] = new_df['tags'].apply(lambda x: \" \".join(x))"
   ]
  },
  {
   "cell_type": "code",
   "execution_count": 85,
   "metadata": {},
   "outputs": [
    {
     "data": {
      "text/plain": [
       "\"Comedy Adventure Animation Children Fantasy JohnLasseter TomHanks TimAllen JimVarney DonRickles WallaceShawn Led by Woody, Andy's toys live happily in his room until Andy's birthday brings Buzz Lightyear onto the scene. Afraid of losing his place in Andy's heart, Woody plots against Buzz. But when circumstances separate Buzz and Woody from their owner, the duo eventually learns to put aside their differences.\""
      ]
     },
     "execution_count": 85,
     "metadata": {},
     "output_type": "execute_result"
    }
   ],
   "source": [
    "new_df['tags'][0]"
   ]
  },
  {
   "cell_type": "code",
   "execution_count": 86,
   "metadata": {},
   "outputs": [],
   "source": [
    "new_df['tags'] = new_df['tags'].apply(lambda x: x.lower())"
   ]
  },
  {
   "cell_type": "code",
   "execution_count": 87,
   "metadata": {},
   "outputs": [],
   "source": [
    "from sklearn.feature_extraction.text import CountVectorizer\n",
    "from sklearn.metrics.pairwise import cosine_similarity\n",
    "cv = CountVectorizer(max_features=5000, stop_words='english')"
   ]
  },
  {
   "cell_type": "code",
   "execution_count": 88,
   "metadata": {},
   "outputs": [],
   "source": [
    "vectors = cv.fit_transform(new_df['tags']).toarray()"
   ]
  },
  {
   "cell_type": "code",
   "execution_count": 89,
   "metadata": {},
   "outputs": [
    {
     "name": "stdout",
     "output_type": "stream",
     "text": [
      "['000' '10' '100' ... 'zone' 'zoo' 'zooeydeschanel']\n"
     ]
    }
   ],
   "source": [
    "print(cv.get_feature_names_out())"
   ]
  },
  {
   "cell_type": "code",
   "execution_count": 90,
   "metadata": {},
   "outputs": [],
   "source": [
    "similarity = cosine_similarity(vectors)"
   ]
  },
  {
   "cell_type": "code",
   "execution_count": 91,
   "metadata": {},
   "outputs": [
    {
     "data": {
      "text/plain": [
       "(9551, 9551)"
      ]
     },
     "execution_count": 91,
     "metadata": {},
     "output_type": "execute_result"
    }
   ],
   "source": [
    "similarity.shape"
   ]
  },
  {
   "cell_type": "code",
   "execution_count": 92,
   "metadata": {},
   "outputs": [],
   "source": [
    "# similarity"
   ]
  },
  {
   "cell_type": "code",
   "execution_count": 93,
   "id": "5580e01e",
   "metadata": {},
   "outputs": [],
   "source": [
    "def recommend(movie):\n",
    "  movie_index = new_df[new_df[\"movie_id\"] == movie].index[0]\n",
    "  print(movie_index)\n",
    "  distances = similarity[movie_index]\n",
    "  movie_list = sorted(list(enumerate(distances)), reverse=True, key=lambda x: x[1])[:11]\n",
    "  print(movie_list)\n",
    "  movie_indexes = [i[0] for i in movie_list]\n",
    "  print(movie_indexes)\n",
    "  movies_ides = [[new_df.iloc[i].movie_id, new_df.iloc[i].title] for i in movie_indexes]\n",
    "  return movies_ides"
   ]
  },
  {
   "cell_type": "code",
   "execution_count": 94,
   "metadata": {},
   "outputs": [
    {
     "name": "stdout",
     "output_type": "stream",
     "text": [
      "0\n",
      "[(0, np.float64(0.9999999999999998)), (7285, np.float64(0.5298129428260177)), (2350, np.float64(0.4954403570783588)), (5932, np.float64(0.30117993528988257)), (8601, np.float64(0.20951312035156963)), (1509, np.float64(0.19364916731037085)), (6150, np.float64(0.18681617943926832)), (5649, np.float64(0.181848241863327)), (922, np.float64(0.1756820922315766)), (9062, np.float64(0.1756820922315766)), (9409, np.float64(0.17213259316477408))]\n",
      "[0, 7285, 2350, 5932, 8601, 1509, 6150, 5649, 922, 9062, 9409]\n",
      "[[np.int64(1), 'Toy Story'], [np.int64(78499), 'Toy Story 3'], [np.int64(3114), 'Toy Story 2'], [np.int64(35836), 'The 40 Year Old Virgin'], [np.int64(125970), 'Halloweentown'], [np.int64(2041), 'Condorman'], [np.int64(45074), 'The Wild'], [np.int64(27731), 'The Cat Returns'], [np.int64(1223), 'A Grand Day Out'], [np.int64(151653), 'Welcome to Happiness'], [np.int64(175397), 'In the Blue Sea, in the White Foam...']]\n"
     ]
    }
   ],
   "source": [
    "print(recommend(1))"
   ]
  },
  {
   "cell_type": "code",
   "execution_count": 95,
   "metadata": {},
   "outputs": [
    {
     "data": {
      "application/vnd.microsoft.datawrangler.viewer.v0+json": {
       "columns": [
        {
         "name": "index",
         "rawType": "int64",
         "type": "integer"
        },
        {
         "name": "movie_id",
         "rawType": "int64",
         "type": "integer"
        },
        {
         "name": "title",
         "rawType": "object",
         "type": "string"
        },
        {
         "name": "tags",
         "rawType": "object",
         "type": "string"
        }
       ],
       "ref": "f8c4d425-ee15-4fe9-9507-f671a247742e",
       "rows": [
        [
         "7285",
         "78499",
         "Toy Story 3",
         "comedy adventure animation children fantasy leeunkrich joancusack tomhanks timallen donrickles wallaceshawn woody, buzz, and the rest of andy's toys haven't been played with in years. with andy about to go to college, the gang find themselves accidentally left at a nefarious day care center. the toys must band together to escape and return home to andy."
        ]
       ],
       "shape": {
        "columns": 3,
        "rows": 1
       }
      },
      "text/html": [
       "<div>\n",
       "<style scoped>\n",
       "    .dataframe tbody tr th:only-of-type {\n",
       "        vertical-align: middle;\n",
       "    }\n",
       "\n",
       "    .dataframe tbody tr th {\n",
       "        vertical-align: top;\n",
       "    }\n",
       "\n",
       "    .dataframe thead th {\n",
       "        text-align: right;\n",
       "    }\n",
       "</style>\n",
       "<table border=\"1\" class=\"dataframe\">\n",
       "  <thead>\n",
       "    <tr style=\"text-align: right;\">\n",
       "      <th></th>\n",
       "      <th>movie_id</th>\n",
       "      <th>title</th>\n",
       "      <th>tags</th>\n",
       "    </tr>\n",
       "  </thead>\n",
       "  <tbody>\n",
       "    <tr>\n",
       "      <th>7285</th>\n",
       "      <td>78499</td>\n",
       "      <td>Toy Story 3</td>\n",
       "      <td>comedy adventure animation children fantasy le...</td>\n",
       "    </tr>\n",
       "  </tbody>\n",
       "</table>\n",
       "</div>"
      ],
      "text/plain": [
       "      movie_id        title                                               tags\n",
       "7285     78499  Toy Story 3  comedy adventure animation children fantasy le..."
      ]
     },
     "execution_count": 95,
     "metadata": {},
     "output_type": "execute_result"
    }
   ],
   "source": [
    "new_df[new_df['movie_id'] == 78499]"
   ]
  },
  {
   "cell_type": "code",
   "execution_count": 96,
   "id": "cb781e2a",
   "metadata": {},
   "outputs": [
    {
     "data": {
      "application/vnd.microsoft.datawrangler.viewer.v0+json": {
       "columns": [
        {
         "name": "index",
         "rawType": "object",
         "type": "string"
        },
        {
         "name": "7285",
         "rawType": "object",
         "type": "unknown"
        }
       ],
       "ref": "8955ce18-6509-4e8f-bf76-fb8252ea4b03",
       "rows": [
        [
         "movie_id",
         "78499"
        ],
        [
         "title",
         "Toy Story 3"
        ],
        [
         "tags",
         "comedy adventure animation children fantasy leeunkrich joancusack tomhanks timallen donrickles wallaceshawn woody, buzz, and the rest of andy's toys haven't been played with in years. with andy about to go to college, the gang find themselves accidentally left at a nefarious day care center. the toys must band together to escape and return home to andy."
        ]
       ],
       "shape": {
        "columns": 1,
        "rows": 3
       }
      },
      "text/plain": [
       "movie_id                                                78499\n",
       "title                                             Toy Story 3\n",
       "tags        comedy adventure animation children fantasy le...\n",
       "Name: 7285, dtype: object"
      ]
     },
     "execution_count": 96,
     "metadata": {},
     "output_type": "execute_result"
    }
   ],
   "source": [
    "new_df.iloc[7285]"
   ]
  },
  {
   "cell_type": "code",
   "execution_count": 104,
   "id": "642075e7",
   "metadata": {},
   "outputs": [
    {
     "name": "stdout",
     "output_type": "stream",
     "text": [
      "8581\n",
      "[(8581, np.float64(1.0)), (8575, np.float64(0.3407771005482389)), (8582, np.float64(0.29329423004270666)), (7618, np.float64(0.2813874297663251)), (6458, np.float64(0.26681493838602804)), (5001, np.float64(0.25923792368260634)), (7552, np.float64(0.25883878884437284)), (8839, np.float64(0.25558282541117916)), (8584, np.float64(0.2514474228374849)), (8832, np.float64(0.24906774069335896)), (8586, np.float64(0.24722569302909875))]\n",
      "[8581, 8575, 8582, 7618, 6458, 5001, 7552, 8839, 8584, 8832, 8586]\n",
      "[[np.int64(122912), 'Avengers: Infinity War'], [np.int64(122892), 'Avengers: Age of Ultron'], [np.int64(122916), 'Thor: Ragnarok'], [np.int64(89745), 'The Avengers'], [np.int64(53464), 'Fantastic Four: Rise of the Silver Surfer'], [np.int64(7810), 'Babylon 5: A Call to Arms'], [np.int64(87430), 'Green Lantern'], [np.int64(136864), 'Batman v Superman: Dawn of Justice'], [np.int64(122920), 'Captain America: Civil War'], [np.int64(136800), 'Robot Overlords'], [np.int64(122924), 'X-Men: Apocalypse']]\n"
     ]
    }
   ],
   "source": [
    "print(recommend(122912))"
   ]
  },
  {
   "cell_type": "code",
   "execution_count": 105,
   "id": "9a3e4a36",
   "metadata": {},
   "outputs": [
    {
     "name": "stdout",
     "output_type": "stream",
     "text": [
      "7618\n",
      "[(7618, np.float64(1.0)), (8575, np.float64(0.38533731779422625)), (8582, np.float64(0.28426762180748066)), (8581, np.float64(0.2813874297663251)), (2921, np.float64(0.27524094128159016)), (4935, np.float64(0.27272727272727276)), (8584, np.float64(0.24370871833797703)), (2947, np.float64(0.24140227479263382)), (8586, np.float64(0.23961691914926153)), (5236, np.float64(0.23450882356048286)), (9541, np.float64(0.23262105259961777))]\n",
      "[7618, 8575, 8582, 8581, 2921, 4935, 8584, 2947, 8586, 5236, 9541]\n",
      "[[np.int64(89745), 'The Avengers'], [np.int64(122892), 'Avengers: Age of Ultron'], [np.int64(122916), 'Thor: Ragnarok'], [np.int64(122912), 'Avengers: Infinity War'], [np.int64(3926), 'Voyage to the Bottom of the Sea'], [np.int64(7481), 'Enemy Mine'], [np.int64(122920), 'Captain America: Civil War'], [np.int64(3959), 'The Time Machine'], [np.int64(122924), 'X-Men: Apocalypse'], [np.int64(8633), 'The Last Starfighter'], [np.int64(191005), 'Gintama']]\n"
     ]
    }
   ],
   "source": [
    "print(recommend(89745))"
   ]
  },
  {
   "cell_type": "code",
   "execution_count": 98,
   "metadata": {},
   "outputs": [
    {
     "data": {
      "application/vnd.microsoft.datawrangler.viewer.v0+json": {
       "columns": [
        {
         "name": "index",
         "rawType": "int64",
         "type": "integer"
        },
        {
         "name": "movie_id",
         "rawType": "int64",
         "type": "integer"
        },
        {
         "name": "title",
         "rawType": "object",
         "type": "string"
        },
        {
         "name": "tags",
         "rawType": "object",
         "type": "string"
        }
       ],
       "ref": "abe3c293-8663-49cf-814d-b303efe9bf23",
       "rows": [
        [
         "719",
         "940",
         "The Adventures of Robin Hood",
         "adventure action romance michaelcurtiz williamkeighley clauderains errolflynn patricknowles basilrathbone oliviadehavilland robin hood fights nobly for justice against the evil sir guy of gisbourne while striving to win the hand of the beautiful maid marian."
        ]
       ],
       "shape": {
        "columns": 3,
        "rows": 1
       }
      },
      "text/html": [
       "<div>\n",
       "<style scoped>\n",
       "    .dataframe tbody tr th:only-of-type {\n",
       "        vertical-align: middle;\n",
       "    }\n",
       "\n",
       "    .dataframe tbody tr th {\n",
       "        vertical-align: top;\n",
       "    }\n",
       "\n",
       "    .dataframe thead th {\n",
       "        text-align: right;\n",
       "    }\n",
       "</style>\n",
       "<table border=\"1\" class=\"dataframe\">\n",
       "  <thead>\n",
       "    <tr style=\"text-align: right;\">\n",
       "      <th></th>\n",
       "      <th>movie_id</th>\n",
       "      <th>title</th>\n",
       "      <th>tags</th>\n",
       "    </tr>\n",
       "  </thead>\n",
       "  <tbody>\n",
       "    <tr>\n",
       "      <th>719</th>\n",
       "      <td>940</td>\n",
       "      <td>The Adventures of Robin Hood</td>\n",
       "      <td>adventure action romance michaelcurtiz william...</td>\n",
       "    </tr>\n",
       "  </tbody>\n",
       "</table>\n",
       "</div>"
      ],
      "text/plain": [
       "     movie_id                         title  \\\n",
       "719       940  The Adventures of Robin Hood   \n",
       "\n",
       "                                                  tags  \n",
       "719  adventure action romance michaelcurtiz william...  "
      ]
     },
     "execution_count": 98,
     "metadata": {},
     "output_type": "execute_result"
    }
   ],
   "source": [
    "new_df[new_df['movie_id'] == 940]"
   ]
  },
  {
   "cell_type": "code",
   "execution_count": 99,
   "metadata": {},
   "outputs": [
    {
     "data": {
      "application/vnd.microsoft.datawrangler.viewer.v0+json": {
       "columns": [
        {
         "name": "index",
         "rawType": "object",
         "type": "string"
        },
        {
         "name": "1608",
         "rawType": "object",
         "type": "unknown"
        }
       ],
       "ref": "bc0543ef-f80e-4662-9d20-975f9ac1be38",
       "rows": [
        [
         "movie_id",
         "2153"
        ],
        [
         "title",
         "The Avengers"
        ],
        [
         "tags",
         "adventure action jeremiahs.chechik seanconnery patrickmacnee jimbroadbent ralphfiennes umathurman british ministry agent john steed, under direction from \"mother\", investigates a diabolical plot by arch-villain sir august de wynter to rule the world with his weather control machine. steed investigates the beautiful doctor mrs. emma peel, the only suspect, but simultaneously falls for her and joins forces with her to combat sir august."
        ]
       ],
       "shape": {
        "columns": 1,
        "rows": 3
       }
      },
      "text/plain": [
       "movie_id                                                 2153\n",
       "title                                            The Avengers\n",
       "tags        adventure action jeremiahs.chechik seanconnery...\n",
       "Name: 1608, dtype: object"
      ]
     },
     "execution_count": 99,
     "metadata": {},
     "output_type": "execute_result"
    }
   ],
   "source": [
    "new_df.iloc[1608]"
   ]
  },
  {
   "cell_type": "code",
   "execution_count": 107,
   "id": "bd67551e",
   "metadata": {},
   "outputs": [],
   "source": [
    "import pickle\n",
    "pickle.dump(new_df.to_dict(), open('../models/movie_dict.pkl', 'wb'))\n",
    "pickle.dump(similarity, open('../models/similarity.pkl', 'wb'))"
   ]
  }
 ],
 "metadata": {
  "kernelspec": {
   "display_name": "server",
   "language": "python",
   "name": "python3"
  },
  "language_info": {
   "codemirror_mode": {
    "name": "ipython",
    "version": 3
   },
   "file_extension": ".py",
   "mimetype": "text/x-python",
   "name": "python",
   "nbconvert_exporter": "python",
   "pygments_lexer": "ipython3",
   "version": "3.10.11"
  }
 },
 "nbformat": 4,
 "nbformat_minor": 5
}
